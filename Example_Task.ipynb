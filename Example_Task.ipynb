{
  "nbformat": 4,
  "nbformat_minor": 0,
  "metadata": {
    "colab": {
      "provenance": [],
      "toc_visible": true,
      "include_colab_link": true
    },
    "kernelspec": {
      "name": "python3",
      "display_name": "Python 3"
    },
    "language_info": {
      "name": "python"
    }
  },
  "cells": [
    {
      "cell_type": "markdown",
      "metadata": {
        "id": "view-in-github",
        "colab_type": "text"
      },
      "source": [
        "<a href=\"https://colab.research.google.com/github/ZachRainville22/msa550-code-files-2025/blob/main/Example_Task.ipynb\" target=\"_parent\"><img src=\"https://colab.research.google.com/assets/colab-badge.svg\" alt=\"Open In Colab\"/></a>"
      ]
    },
    {
      "cell_type": "code",
      "execution_count": null,
      "metadata": {
        "id": "4sllfcbSyfbF"
      },
      "outputs": [],
      "source": []
    },
    {
      "cell_type": "markdown",
      "source": [
        "#Python Practice Notebook"
      ],
      "metadata": {
        "id": "jZDCLbx1ymY5"
      }
    },
    {
      "cell_type": "code",
      "source": [
        "#  Here you can import necessary libraries\n",
        "import pandas as pd\n",
        "import numpy as np\n",
        "import matplotlib.pyplot as plt\n",
        "import seaborn as sns\n",
        "import math\n",
        "import statistics\n",
        "import random"
      ],
      "metadata": {
        "id": "s-DcjA91yjfn"
      },
      "execution_count": null,
      "outputs": []
    },
    {
      "cell_type": "markdown",
      "source": [
        "##Task 1: Python Basics and Variables"
      ],
      "metadata": {
        "id": "uw417JVey4wT"
      }
    },
    {
      "cell_type": "code",
      "source": [
        "\"\"\"\n",
        "Create variables for your name, age, and favorite color.\n",
        "Then create a formatted string that says \"My name is [name], I am [age] years old, and my favorite color is [color].\"\n",
        "Print this string.\n",
        "\"\"\"\n",
        "\n",
        "person = {\n",
        "    \"name\": \"Zach\",\n",
        "    \"age\": 22,\n",
        "    \"favorite color\": \"red\"\n",
        "}\n",
        "sentence = f\"My name is {person['name']}, I am {person['age']} years old, and my favorite color is {person['favorite color']}.\"\n",
        "print(sentence)\n",
        "\n",
        "\n"
      ],
      "metadata": {
        "id": "KOFP07eXy-u_",
        "jupyter": {
          "is_executing": true
        },
        "colab": {
          "base_uri": "https://localhost:8080/"
        },
        "outputId": "461db3b4-8da4-4dee-ed1d-a09cc74b6769"
      },
      "outputs": [
        {
          "output_type": "stream",
          "name": "stdout",
          "text": [
            "My name is Zach, I am 22 years old, and my favorite color is red.\n"
          ]
        }
      ],
      "execution_count": null
    },
    {
      "cell_type": "markdown",
      "source": [
        "##Task 2: Input and Output"
      ],
      "metadata": {
        "id": "C0eM6v9ezFJ9"
      }
    },
    {
      "cell_type": "code",
      "source": [
        "\"\"\"\n",
        "Ask the user for their weight in kilograms and height in meters.\n",
        "Calculate their BMI (Body Mass Index) using the formula: BMI = weight / (height^2)\n",
        "Print the result with 2 decimal places.\n",
        "\"\"\"\n",
        "# Your code here\n",
        "weight = float(input(\"What is your weight in kilograms? \"))\n",
        "height = float(input(\"What is your height in meters? \"))\n",
        "bmi = weight / (height**2)\n",
        "print(round(bmi, 2))\n",
        "\n",
        "\n",
        "\n"
      ],
      "metadata": {
        "id": "1qmqXYsozIDs",
        "colab": {
          "base_uri": "https://localhost:8080/"
        },
        "outputId": "c3284dba-d22d-476b-ab7b-f647538aa580"
      },
      "execution_count": null,
      "outputs": [
        {
          "output_type": "stream",
          "name": "stdout",
          "text": [
            "What is your weight in kilograms? 74.8427\n",
            "What is your height in meters? 1.778\n",
            "23.67\n"
          ]
        }
      ]
    },
    {
      "cell_type": "markdown",
      "source": [
        "## Task 3: Numbers and Math Module"
      ],
      "metadata": {
        "id": "93lFBJ9pzP2r"
      }
    },
    {
      "cell_type": "code",
      "source": [
        "\"\"\"\n",
        "Using the math module, calculate the area of a circle with radius 7.5 units.\n",
        "Then, calculate the volume of a sphere with the same radius.\n",
        "Print both results rounded to 3 decimal places.\n",
        "\"\"\"\n",
        "# Your code here\n",
        "radius = 7.5\n",
        "area = math.pi * (radius**2)\n",
        "volume = (4/3) * math.pi * (radius**3)\n",
        "rounded = round(area, 3)\n",
        "rounded2 = round(volume, 3)\n",
        "print(rounded)\n",
        "print(rounded2)\n",
        "\n"
      ],
      "metadata": {
        "id": "4MjUW2gkzQ8N",
        "colab": {
          "base_uri": "https://localhost:8080/"
        },
        "outputId": "f4b8df06-2b2e-4098-b882-eb704d9c83d4"
      },
      "execution_count": null,
      "outputs": [
        {
          "output_type": "stream",
          "name": "stdout",
          "text": [
            "176.715\n",
            "1767.146\n"
          ]
        }
      ]
    },
    {
      "cell_type": "markdown",
      "source": [
        "##Task 4: Strings"
      ],
      "metadata": {
        "id": "5o7LTM8rzVM3"
      }
    },
    {
      "cell_type": "code",
      "source": [
        "\"\"\"\n",
        "Create a string variable with the text \"Python Programming\".\n",
        "Print the following:\n",
        "1. The length of the string\n",
        "2. The string in all uppercase\n",
        "3. The last 5 characters of the string\n",
        "4. The string with all 'P' replaced by 'J'\n",
        "\"\"\"\n",
        "# Your code here\n",
        "string = \"Python Programming\"\n",
        "print(len(string))\n",
        "print(string.upper())\n",
        "print(string[-5:])\n",
        "print(string.replace(\"P\", \"J\"))"
      ],
      "metadata": {
        "id": "c95xLu4ozWgF",
        "colab": {
          "base_uri": "https://localhost:8080/"
        },
        "outputId": "c78f8de5-30b5-4613-b720-91cd9b6114bf"
      },
      "execution_count": null,
      "outputs": [
        {
          "output_type": "stream",
          "name": "stdout",
          "text": [
            "18\n",
            "PYTHON PROGRAMMING\n",
            "mming\n",
            "Jython Jrogramming\n"
          ]
        }
      ]
    },
    {
      "cell_type": "markdown",
      "source": [
        "## Task 5: Conditionals"
      ],
      "metadata": {
        "id": "Fjn6Dn-azYra"
      }
    },
    {
      "cell_type": "code",
      "source": [
        "\"\"\"\n",
        "Write a program that asks the user for their age.\n",
        "If the age is less than 18, print \"You are a minor.\"\n",
        "If the age is between 18 and 65, print \"You are an adult.\"\n",
        "If the age is 65 or older, print \"You are a senior citizen.\"\n",
        "\"\"\"\n",
        "# Your code here\n",
        "age = int(input(\"What is your age? \"))\n",
        "if age < 18:\n",
        "    print(\"You are a minor.\")\n",
        "elif age >= 18 and age <= 65:\n",
        "    print(\"You are an adult.\")\n",
        "else:\n",
        "    print(\"You are a senior citizen.\")\n"
      ],
      "metadata": {
        "id": "nTwJJmEczbGc",
        "colab": {
          "base_uri": "https://localhost:8080/"
        },
        "outputId": "4a3229f8-1073-48eb-a171-2310a1c9fe87"
      },
      "execution_count": null,
      "outputs": [
        {
          "output_type": "stream",
          "name": "stdout",
          "text": [
            "What is your age? 22\n",
            "You are an adult.\n"
          ]
        }
      ]
    },
    {
      "cell_type": "markdown",
      "source": [
        "## Task 6: Iterations"
      ],
      "metadata": {
        "id": "pyyrWjpBzeJV"
      }
    },
    {
      "cell_type": "code",
      "source": [
        "\"\"\"\n",
        "Use a for loop to print the first 10 Fibonacci numbers.\n",
        "The Fibonacci sequence starts with 0 and 1, and each subsequent number is the sum of the two preceding ones.\n",
        "\"\"\"\n",
        "# Your code here\n",
        "fib = [0, 1]\n",
        "for i in range(2, 10):\n",
        "    fib.append(fib[i-1] + fib[i-2])\n",
        "print(fib)\n"
      ],
      "metadata": {
        "id": "OQ3iBjnCzgoY",
        "colab": {
          "base_uri": "https://localhost:8080/"
        },
        "outputId": "224e4b01-e1f5-4d30-c14d-0f346a0a1092"
      },
      "execution_count": null,
      "outputs": [
        {
          "output_type": "stream",
          "name": "stdout",
          "text": [
            "[0, 1, 1, 2, 3, 5, 8, 13, 21, 34]\n"
          ]
        }
      ]
    },
    {
      "cell_type": "markdown",
      "source": [
        "## Task 7: Lists"
      ],
      "metadata": {
        "id": "6iWBomoyzjJB"
      }
    },
    {
      "cell_type": "code",
      "source": [
        "\"\"\"\n",
        "Create a list of 10 random numbers between 1 and 100.\n",
        "Then, create a new list that contains only the even numbers from the original list.\n",
        "Print both lists.\n",
        "\"\"\"\n",
        "# Your code here\n",
        "random_numbers = random.sample(range(1, 101), 10)\n",
        "even_numbers = [num for num in random_numbers if num % 2 == 0]\n",
        "print(random_numbers)\n",
        "print(even_numbers)\n"
      ],
      "metadata": {
        "id": "f57oc88ozkdo",
        "colab": {
          "base_uri": "https://localhost:8080/"
        },
        "outputId": "dc1c38b5-6622-4ebe-d630-5d06c57bde60"
      },
      "execution_count": null,
      "outputs": [
        {
          "output_type": "stream",
          "name": "stdout",
          "text": [
            "[73, 1, 17, 57, 85, 31, 34, 70, 11, 86]\n",
            "[34, 70, 86]\n"
          ]
        }
      ]
    },
    {
      "cell_type": "markdown",
      "source": [
        "## Task 8: Functions"
      ],
      "metadata": {
        "id": "GL5ZTRnJznPo"
      }
    },
    {
      "cell_type": "code",
      "source": [
        "\"\"\"\n",
        "Write a function called 'is_prime' that takes a number as an argument and returns True if the number is prime, and False otherwise.\n",
        "Test your function with the numbers 17 and 24.\n",
        "\"\"\"\n",
        "# Your code here\n",
        "def is_prime(num):\n",
        "    if num < 2:\n",
        "        return False\n",
        "    for i in range(2, int(num**0.5) + 1):\n",
        "        if num % i == 0:\n",
        "            return False\n",
        "    return True\n",
        "\n",
        "print(is_prime(17))\n",
        "print(is_prime(24))\n"
      ],
      "metadata": {
        "id": "CMZEpZ0nzoUM",
        "colab": {
          "base_uri": "https://localhost:8080/"
        },
        "outputId": "9a0f005a-0309-451b-ddb0-92830d1b793e"
      },
      "execution_count": null,
      "outputs": [
        {
          "output_type": "stream",
          "name": "stdout",
          "text": [
            "True\n",
            "False\n"
          ]
        }
      ]
    },
    {
      "cell_type": "markdown",
      "source": [
        "## Task 9: Dictionaries"
      ],
      "metadata": {
        "id": "fG9_IgKlzq7a"
      }
    },
    {
      "cell_type": "code",
      "source": [
        "\"\"\"\n",
        "Create a dictionary representing a simple inventory system for a small store.\n",
        "The keys should be item names, and the values should be dictionaries containing the price and quantity of each item.\n",
        "Add at least 5 items to your inventory.\n",
        "Then, write a function that calculates the total value of the inventory.\n",
        "\"\"\"\n",
        "# Your code here\n",
        "inventory = {\n",
        "    \"pillow\": {\"price\": 10, \"quantity\": 5},\n",
        "    \"chair\": {\"price\": 20, \"quantity\": 10},\n",
        "    \"lamp\": {\"price\": 15, \"quantity\": 7},\n",
        "    \"rug\": {\"price\": 5, \"quantity\": 15},\n",
        "    \"couch\": {\"price\": 30, \"quantity\": 3}\n",
        "}\n",
        "\n",
        "def total_value(inventory):\n",
        "    total = 0\n",
        "    for item in inventory.values():\n",
        "        total += item[\"price\"] * item[\"quantity\"]\n",
        "    return total\n",
        "\n",
        "print(total_value(inventory))"
      ],
      "metadata": {
        "id": "dak-1UJqzs0e",
        "colab": {
          "base_uri": "https://localhost:8080/"
        },
        "outputId": "89038b8a-9413-4c45-975a-b8f1840924f0"
      },
      "execution_count": null,
      "outputs": [
        {
          "output_type": "stream",
          "name": "stdout",
          "text": [
            "520\n"
          ]
        }
      ]
    },
    {
      "cell_type": "markdown",
      "source": [
        "## Task 10: Pandas"
      ],
      "metadata": {
        "id": "pmN47lxgzuxC"
      }
    },
    {
      "cell_type": "code",
      "source": [
        "\"\"\"\n",
        "Create a DataFrame with the following data:\n",
        "Name: ['Alice', 'Bob', 'Charlie', 'David', 'Eve']\n",
        "Age: [25, 30, 35, 28, 22]\n",
        "City: ['New York', 'San Francisco', 'Los Angeles', 'Chicago', 'Boston']\n",
        "Salary: [50000, 70000, 65000, 55000, 45000]\n",
        "\n",
        "Then, perform the following operations:\n",
        "1. Sort the DataFrame by Salary in descending order\n",
        "2. Calculate the average age\n",
        "3. Find the person with the highest salary\n",
        "4. Create a new column 'Salary_Category' where salary > 60000 is 'High', otherwise 'Low'\n",
        "\"\"\"\n",
        "# Your code here\n",
        "data = {\n",
        "    \"Name\": [\"Alice\", \"Bob\", \"Charlie\", \"David\", \"Eve\"],\n",
        "    \"Age\": [25, 30, 35, 28, 22],\n",
        "    \"City\": [\n",
        "    \"New York\", \"San Francisco\", \"Los Angeles\", \"Chicago\", \"Boston\"],\n",
        "    \"Salary\": [50000, 70000, 65000, 55000, 45000]\n",
        "}\n",
        "df = pd.DataFrame(data)\n",
        "df\n",
        "sorted_df = df.sort_values(by=\"Salary\", ascending=False)\n",
        "average_age = df[\"Age\"].mean()\n",
        "highest_salary = df.loc[df[\"Salary\"].idxmax()]\n",
        "df[\"Salary_Category\"] = np.where(df[\"Salary\"] > 60000, \"High\", \"Low\")\n",
        "print(sorted_df)\n",
        "print(average_age)\n",
        "print(highest_salary)\n",
        "print(df)\n",
        "\n"
      ],
      "metadata": {
        "id": "r_zFSELQzw8Y",
        "colab": {
          "base_uri": "https://localhost:8080/"
        },
        "outputId": "fe93fc91-e650-4ff2-e14b-47f926857cb5"
      },
      "execution_count": null,
      "outputs": [
        {
          "output_type": "stream",
          "name": "stdout",
          "text": [
            "      Name  Age           City  Salary\n",
            "1      Bob   30  San Francisco   70000\n",
            "2  Charlie   35    Los Angeles   65000\n",
            "3    David   28        Chicago   55000\n",
            "0    Alice   25       New York   50000\n",
            "4      Eve   22         Boston   45000\n",
            "28.0\n",
            "Name                Bob\n",
            "Age                  30\n",
            "City      San Francisco\n",
            "Salary            70000\n",
            "Name: 1, dtype: object\n",
            "      Name  Age           City  Salary Salary_Category\n",
            "0    Alice   25       New York   50000             Low\n",
            "1      Bob   30  San Francisco   70000            High\n",
            "2  Charlie   35    Los Angeles   65000            High\n",
            "3    David   28        Chicago   55000             Low\n",
            "4      Eve   22         Boston   45000             Low\n"
          ]
        }
      ]
    },
    {
      "cell_type": "markdown",
      "source": [
        "## Task 11: NumPy"
      ],
      "metadata": {
        "id": "3JdDtNQFzysD"
      }
    },
    {
      "cell_type": "code",
      "source": [
        "\"\"\"\n",
        "Create a 5x5 NumPy array of random integers between 1 and 100.\n",
        "Then, perform the following operations:\n",
        "1. Calculate the mean of each row\n",
        "2. Find the maximum value in each column\n",
        "3. Replace all odd numbers in the array with -1\n",
        "4. Calculate the determinant of the resulting matrix\n",
        "\"\"\"\n",
        "# Your code here\n",
        "array = np.random.randint(1, 101, (5, 5))\n",
        "mean_of_rows = np.mean(array, axis=1)\n",
        "max_of_columns = np.max(array, axis=0)\n",
        "array[array % 2 == 1] = -1\n",
        "determinant = np.linalg.det(array)\n",
        "print(mean_of_rows)\n",
        "print(max_of_columns)\n",
        "print(array)\n",
        "print(determinant)"
      ],
      "metadata": {
        "id": "9fGBN2yAz03o",
        "colab": {
          "base_uri": "https://localhost:8080/"
        },
        "outputId": "ab51ff90-d7cc-45e3-f7e3-81648035ec41"
      },
      "execution_count": null,
      "outputs": [
        {
          "output_type": "stream",
          "name": "stdout",
          "text": [
            "[53.4 38.  57.4 33.6 34.6]\n",
            "[90 38 74 94 80]\n",
            "[[-1 -1 28 94 -1]\n",
            " [16 16 74  4 80]\n",
            " [90 -1 -1 -1 54]\n",
            " [-1 38 -1 24 26]\n",
            " [-1 -1 -1 -1 -1]]\n",
            "-25381849.999999966\n"
          ]
        }
      ]
    },
    {
      "cell_type": "markdown",
      "source": [
        "## Task 12: Visualization with Matplotlib and Seaborn"
      ],
      "metadata": {
        "id": "8phn5TeQz3o7"
      }
    },
    {
      "cell_type": "code",
      "source": [
        "\"\"\"\n",
        "Using the DataFrame from Task 10:\n",
        "1. Create a scatter plot of Age vs Salary using Matplotlib\n",
        "2. Create a bar plot of average salary by city using Seaborn\n",
        "\"\"\"\n",
        "# Your code here\n",
        "plt.scatter(df[\"Age\"], df[\"Salary\"])\n",
        "plt.xlabel(\"Age\")\n",
        "plt.ylabel(\"Salary\")\n",
        "plt.show()\n",
        "sns.barplot(x=\"City\", y=\"Salary\", data=df)\n",
        "plt.show()\n",
        "\n",
        "\n"
      ],
      "metadata": {
        "id": "EK7vLaqqz6h1",
        "colab": {
          "base_uri": "https://localhost:8080/",
          "height": 881
        },
        "outputId": "fbac2998-b93a-44bb-b5fc-e30d8133e476"
      },
      "execution_count": null,
      "outputs": [
        {
          "output_type": "display_data",
          "data": {
            "text/plain": [
              "<Figure size 640x480 with 1 Axes>"
            ],
            "image/png": "[encoded data removed]"
          },
          "metadata": {}
        },
        {
          "output_type": "display_data",
          "data": {
            "text/plain": [
              "<Figure size 640x480 with 1 Axes>"
            ],
            "image/png": "[encoded data removed]"
          },
          "metadata": {}
        }
      ]
    },
    {
      "cell_type": "markdown",
      "source": [
        "## Task 13: Statistics Module"
      ],
      "metadata": {
        "id": "z9NV9HdLz8ew"
      }
    },
    {
      "cell_type": "code",
      "source": [
        "\"\"\"\n",
        "Generate a list of 1000 random numbers following a normal distribution with mean 0 and standard deviation 1.\n",
        "Using the statistics module, calculate and print:\n",
        "1. The mean\n",
        "2. The median\n",
        "3. The standard deviation\n",
        "4. The variance\n",
        "\"\"\"\n",
        "# Your code here\n",
        "random_numbers = np.random.normal(0, 1, 1000)\n",
        "print(statistics.mean(random_numbers))\n",
        "print(statistics.median(random_numbers))\n",
        "print(statistics.stdev(random_numbers))\n",
        "print(statistics.variance(random_numbers))\n",
        "\n"
      ],
      "metadata": {
        "id": "Cc5uw7A0z9ZH",
        "colab": {
          "base_uri": "https://localhost:8080/"
        },
        "outputId": "9cd4909b-841b-44b5-9226-4c9775c6e132"
      },
      "execution_count": null,
      "outputs": [
        {
          "output_type": "stream",
          "name": "stdout",
          "text": [
            "-0.0361513678740664\n",
            "-0.06649709354058289\n",
            "0.990421543155645\n",
            "0.9809348331468092\n"
          ]
        }
      ]
    },
    {
      "cell_type": "markdown",
      "source": [
        "## Task 14: Random Module"
      ],
      "metadata": {
        "id": "-7MXUYDI0Acs"
      }
    },
    {
      "cell_type": "code",
      "source": [
        "\"\"\"\n",
        "Create a simple game where the computer generates a random number between 1 and 100, and the user has to guess it.\n",
        "Give the user feedback after each guess (too high, too low, or correct).\n",
        "Limit the number of guesses to 7.\n",
        "\"\"\"\n",
        "# Your code here\n",
        "random_number = random.randint(1, 100)\n",
        "guesses = 0\n",
        "while guesses < 7:\n",
        "    guess = int(input(\"Guess a number between 1 and 100: \"))\n",
        "    guesses += 1\n",
        "    if guess == random_number:\n",
        "        print(\"Correct!\")\n",
        "        break\n",
        "    elif guess < random_number:\n",
        "        print(\"Too low!\")\n",
        "    else:\n",
        "        print(\"Too high!\")\n"
      ],
      "metadata": {
        "id": "Gxg-SVMg0BWA",
        "colab": {
          "base_uri": "https://localhost:8080/"
        },
        "outputId": "6a0ea8b8-08e8-434f-9187-86cd8fa2d6d3"
      },
      "execution_count": null,
      "outputs": [
        {
          "output_type": "stream",
          "name": "stdout",
          "text": [
            "Guess a number between 1 and 100: 50\n",
            "Too low!\n",
            "Guess a number between 1 and 100: 75\n",
            "Correct!\n"
          ]
        }
      ]
    },
    {
      "cell_type": "markdown",
      "source": [
        "## Bonus Task: Combining Multiple Concepts"
      ],
      "metadata": {
        "id": "kdpVfiUh0EBc"
      }
    },
    {
      "cell_type": "code",
      "source": [
        "\"\"\"\n",
        "Create a class called 'BankAccount' with methods for deposit, withdraw, and check balance.\n",
        "Create multiple accounts and perform various transactions.\n",
        "Store the account information (account number, balance) in a Pandas DataFrame.\n",
        "Create a visualization of the account balances using Matplotlib or Seaborn.\n",
        "\"\"\"\n",
        "# Your code here\n",
        "\n"
      ],
      "metadata": {
        "id": "i0Zr8ZbR0GIc",
        "colab": {
          "base_uri": "https://localhost:8080/",
          "height": 71
        },
        "outputId": "8c27e713-2123-461d-ec36-6f443bcf1636"
      },
      "execution_count": null,
      "outputs": [
        {
          "output_type": "execute_result",
          "data": {
            "text/plain": [
              "\"\\nCreate a class called 'BankAccount' with methods for deposit, withdraw, and check balance.\\nCreate multiple accounts and perform various transactions.\\nStore the account information (account number, balance) in a Pandas DataFrame.\\nCreate a visualization of the account balances using Matplotlib or Seaborn.\\n\""
            ],
            "application/vnd.google.colaboratory.intrinsic+json": {
              "type": "string"
            }
          },
          "metadata": {},
          "execution_count": 62
        }
      ]
    }
  ]
}